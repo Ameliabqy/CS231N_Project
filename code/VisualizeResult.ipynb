{
 "cells": [
  {
   "cell_type": "code",
   "execution_count": 14,
   "metadata": {},
   "outputs": [],
   "source": [
    "from PIL import Image\n",
    "import numpy as np\n",
    "import glob\n",
    "import os\n",
    "import os.path as osp"
   ]
  },
  {
   "cell_type": "code",
   "execution_count": 24,
   "metadata": {},
   "outputs": [
    {
     "name": "stdout",
     "output_type": "stream",
     "text": [
      "170908_082328055_Camera_5_instanceIds.png\n",
      "65\n",
      "171206_033235261_Camera_5_instanceIds.png\n",
      "36\n",
      "171206_032602501_Camera_6_instanceIds.png\n",
      "37\n",
      "170908_074915846_Camera_5_instanceIds.png\n",
      "65\n",
      "170908_085431825_Camera_6_instanceIds.png\n",
      "65\n",
      "170908_082236857_Camera_6_instanceIds.png\n",
      "65\n",
      "171206_030004410_Camera_6_instanceIds.png\n",
      "65\n",
      "170908_075315710_Camera_6_instanceIds.png\n",
      "33\n",
      "170908_061635643_Camera_6_instanceIds.png\n",
      "33\n",
      "170908_072755864_Camera_6_instanceIds.png\n",
      "33\n",
      "170908_072739529_Camera_6_instanceIds.png\n",
      "33\n",
      "171206_033052652_Camera_6_instanceIds.png\n",
      "65\n",
      "171206_033952901_Camera_5_instanceIds.png\n",
      "33\n",
      "171206_030220978_Camera_5_instanceIds.png\n",
      "65\n",
      "170908_085442120_Camera_5_instanceIds.png\n",
      "65\n",
      "170927_063944206_Camera_6_instanceIds.png\n",
      "38\n",
      "171206_025910535_Camera_6_instanceIds.png\n",
      "33\n",
      "171206_032700409_Camera_5_instanceIds.png\n",
      "33\n",
      "170908_075340591_Camera_6_instanceIds.png\n",
      "33\n",
      "170908_075004071_Camera_5_instanceIds.png\n",
      "36\n",
      "170908_085254019_Camera_5_instanceIds.png\n",
      "38\n",
      "170908_082355538_Camera_6_instanceIds.png\n",
      "65\n",
      "170908_065450368_Camera_5_instanceIds.png\n",
      "39\n",
      "170927_064450283_Camera_5_instanceIds.png\n",
      "36\n",
      "170908_085453230_Camera_6_instanceIds.png\n",
      "65\n",
      "170927_064013370_Camera_6_instanceIds.png\n",
      "65\n",
      "170908_061548694_Camera_6_instanceIds.png\n",
      "65\n",
      "170908_065148797_Camera_5_instanceIds.png\n",
      "33\n",
      "170908_072844057_Camera_6_instanceIds.png\n",
      "38\n",
      "170908_061731102_Camera_6_instanceIds.png\n",
      "65\n",
      "170908_072739259_Camera_6_instanceIds.png\n",
      "33\n",
      "171206_032947724_Camera_5_instanceIds.png\n",
      "38\n",
      "171206_030503613_Camera_5_instanceIds.png\n",
      "65\n",
      "170908_061526037_Camera_6_instanceIds.png\n",
      "65\n",
      "170927_063939450_Camera_5_instanceIds.png\n",
      "65\n",
      "171206_030417541_Camera_6_instanceIds.png\n",
      "65\n",
      "171206_025931394_Camera_6_instanceIds.png\n",
      "33\n",
      "170908_061703720_Camera_5_instanceIds.png\n",
      "40\n"
     ]
    },
    {
     "ename": "KeyboardInterrupt",
     "evalue": "",
     "output_type": "error",
     "traceback": [
      "\u001b[0;31m---------------------------------------------------------------------------\u001b[0m",
      "\u001b[0;31mKeyboardInterrupt\u001b[0m                         Traceback (most recent call last)",
      "\u001b[0;32m<ipython-input-24-15fa7fa58150>\u001b[0m in \u001b[0;36m<module>\u001b[0;34m()\u001b[0m\n\u001b[1;32m      7\u001b[0m         \u001b[0msave_np\u001b[0m \u001b[0;34m=\u001b[0m \u001b[0mnp\u001b[0m\u001b[0;34m.\u001b[0m\u001b[0masarray\u001b[0m\u001b[0;34m(\u001b[0m\u001b[0mpredict_im\u001b[0m\u001b[0;34m)\u001b[0m\u001b[0;34m\u001b[0m\u001b[0m\n\u001b[1;32m      8\u001b[0m         \u001b[0mprint\u001b[0m\u001b[0;34m(\u001b[0m\u001b[0msave_np\u001b[0m\u001b[0;34m.\u001b[0m\u001b[0mmax\u001b[0m\u001b[0;34m(\u001b[0m\u001b[0;34m)\u001b[0m\u001b[0;34m)\u001b[0m\u001b[0;34m\u001b[0m\u001b[0m\n\u001b[0;32m----> 9\u001b[0;31m         \u001b[0mnp\u001b[0m\u001b[0;34m.\u001b[0m\u001b[0msavetxt\u001b[0m\u001b[0;34m(\u001b[0m\u001b[0;34m'test.out'\u001b[0m\u001b[0;34m,\u001b[0m \u001b[0msave_np\u001b[0m\u001b[0;34m,\u001b[0m \u001b[0mdelimiter\u001b[0m\u001b[0;34m=\u001b[0m\u001b[0;34m','\u001b[0m\u001b[0;34m)\u001b[0m\u001b[0;34m\u001b[0m\u001b[0m\n\u001b[0m\u001b[1;32m     10\u001b[0m         \u001b[0mpredict_im\u001b[0m\u001b[0;34m.\u001b[0m\u001b[0mclose\u001b[0m\u001b[0;34m(\u001b[0m\u001b[0;34m)\u001b[0m\u001b[0;34m\u001b[0m\u001b[0m\n\u001b[1;32m     11\u001b[0m         \u001b[0;32mdel\u001b[0m \u001b[0mpredict_im\u001b[0m\u001b[0;34m\u001b[0m\u001b[0m\n",
      "\u001b[0;32m/home/shared/anaconda3/lib/python3.6/site-packages/numpy/lib/npyio.py\u001b[0m in \u001b[0;36msavetxt\u001b[0;34m(fname, X, fmt, delimiter, newline, header, footer, comments, encoding)\u001b[0m\n\u001b[1;32m   1374\u001b[0m             \u001b[0;32mfor\u001b[0m \u001b[0mrow\u001b[0m \u001b[0;32min\u001b[0m \u001b[0mX\u001b[0m\u001b[0;34m:\u001b[0m\u001b[0;34m\u001b[0m\u001b[0m\n\u001b[1;32m   1375\u001b[0m                 \u001b[0;32mtry\u001b[0m\u001b[0;34m:\u001b[0m\u001b[0;34m\u001b[0m\u001b[0m\n\u001b[0;32m-> 1376\u001b[0;31m                     \u001b[0mv\u001b[0m \u001b[0;34m=\u001b[0m \u001b[0mformat\u001b[0m \u001b[0;34m%\u001b[0m \u001b[0mtuple\u001b[0m\u001b[0;34m(\u001b[0m\u001b[0mrow\u001b[0m\u001b[0;34m)\u001b[0m \u001b[0;34m+\u001b[0m \u001b[0mnewline\u001b[0m\u001b[0;34m\u001b[0m\u001b[0m\n\u001b[0m\u001b[1;32m   1377\u001b[0m                 \u001b[0;32mexcept\u001b[0m \u001b[0mTypeError\u001b[0m\u001b[0;34m:\u001b[0m\u001b[0;34m\u001b[0m\u001b[0m\n\u001b[1;32m   1378\u001b[0m                     raise TypeError(\"Mismatch between array dtype ('%s') and \"\n",
      "\u001b[0;31mKeyboardInterrupt\u001b[0m: "
     ]
    }
   ],
   "source": [
    "directory = '../data/cropped_train_label/'\n",
    "for file in os.listdir(directory):\n",
    "    filename = os.fsdecode(file)\n",
    "    if filename.endswith(\".png\"):\n",
    "        print(filename)\n",
    "        predict_im = Image.open(osp.join(directory, filename))\n",
    "        save_np = np.asarray(predict_im)\n",
    "        print(save_np.max())\n",
    "        np.savetxt('test.out', save_np, delimiter=',') \n",
    "        predict_im.close()\n",
    "        del predict_im"
   ]
  },
  {
   "cell_type": "code",
   "execution_count": null,
   "metadata": {},
   "outputs": [],
   "source": []
  }
 ],
 "metadata": {
  "kernelspec": {
   "display_name": "Python 3",
   "language": "python",
   "name": "python3"
  },
  "language_info": {
   "codemirror_mode": {
    "name": "ipython",
    "version": 3
   },
   "file_extension": ".py",
   "mimetype": "text/x-python",
   "name": "python",
   "nbconvert_exporter": "python",
   "pygments_lexer": "ipython3",
   "version": "3.6.4"
  }
 },
 "nbformat": 4,
 "nbformat_minor": 2
}
